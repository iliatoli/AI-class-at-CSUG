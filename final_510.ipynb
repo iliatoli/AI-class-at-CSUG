{
 "cells": [
  {
   "cell_type": "code",
   "execution_count": 20,
   "id": "333d4b4d-a3e4-4d75-b323-e77ee545dea4",
   "metadata": {},
   "outputs": [
    {
     "name": "stdout",
     "output_type": "stream",
     "text": [
      "Training Accuracy: 0.794\n"
     ]
    },
    {
     "name": "stdin",
     "output_type": "stream",
     "text": [
      "Enter patient's age:  89\n",
      "Enter medication (Medication_A, Medication_B, Medication_C, Medication_D):  Medication_A\n",
      "Enter condition (Condition_X, Condition_Y, Condition_Z):  Condition_X\n"
     ]
    },
    {
     "name": "stdout",
     "output_type": "stream",
     "text": [
      "Recommendation: No Medication Needed\n"
     ]
    }
   ],
   "source": [
    "'''\n",
    "This program simulates the creation of a synthetic dataset related to patient data for medications and conditions. It then splits this dataset into \n",
    "training and testing sets to train a machine learning model and evaluate its accuracy.\n",
    "\n",
    "Let's break down the steps:\n",
    "\n",
    "Data Generation: Synthetic patient data is created, including features such as age, medication, condition, and outcome. This mimics a scenario where \n",
    "patient information regarding age, prescribed medications, existing conditions, and the outcome of a treatment is collected.\n",
    "\n",
    "Data Preparation: The categorical variables ('Medication' and 'Condition') are encoded using one-hot encoding to convert them into numerical format \n",
    "suitable for machine learning algorithms.\n",
    "\n",
    "Train-Test Split: The dataset is divided into training and testing subsets using train_test_split from sklearn.model_selection. This step ensures that \n",
    "the model can learn from a portion of the data and be tested on another unseen portion.\n",
    "\n",
    "Model Training: A RandomForestClassifier is trained on the training data (X_train and y_train). This classifier learns patterns from the provided \n",
    "features (age, medication, and condition) to predict the outcome.\n",
    "\n",
    "Prediction and Evaluation: The trained model (clf) makes predictions on the test set (X_test), and the accuracy of these predictions is calculated \n",
    "using accuracy_score. The accuracy score indicates the proportion of correctly predicted outcomes from the test data.\n",
    "\n",
    "Overall, this program is a basic demonstration of a machine learning workflow for a binary classification task using a RandomForestClassifier on a \n",
    "synthetic dataset representing patient data related to medications and conditions. The print statement displays the accuracy achieved by the model on \n",
    "the test data.\n",
    "'''\n",
    "\n",
    "import numpy as np\n",
    "import pandas as pd\n",
    "from sklearn.ensemble import RandomForestClassifier\n",
    "from sklearn.preprocessing import LabelEncoder\n",
    "from sklearn.metrics import accuracy_score\n",
    "\n",
    "# Generate synthetic medication dataset\n",
    "np.random.seed(42)\n",
    "num_patients = 1000\n",
    "medications = ['Medication_A', 'Medication_B', 'Medication_C', 'Medication_D']\n",
    "conditions = ['Condition_X', 'Condition_Y', 'Condition_Z']\n",
    "patient_data = {\n",
    "    'Age': np.random.randint(20, 80, num_patients),\n",
    "    'Medication': np.random.choice(medications, num_patients),\n",
    "    'Condition': np.random.choice(conditions, num_patients),\n",
    "    'Outcome': np.random.randint(0, 2, num_patients)  # Binary outcome: 0 or 1\n",
    "}\n",
    "medication_df = pd.DataFrame(patient_data)\n",
    "\n",
    "# Encoding categorical variables\n",
    "label_encoders = {}\n",
    "for col in ['Medication', 'Condition']:\n",
    "    label_encoders[col] = LabelEncoder()\n",
    "    medication_df[col] = label_encoders[col].fit_transform(medication_df[col])\n",
    "\n",
    "# Training a RandomForestClassifier\n",
    "X = medication_df[['Age', 'Medication', 'Condition']]\n",
    "y = medication_df['Outcome']\n",
    "\n",
    "clf = RandomForestClassifier(random_state=42)\n",
    "clf.fit(X, y)\n",
    "\n",
    "# Calculate training accuracy\n",
    "y_pred_train = clf.predict(X)\n",
    "training_accuracy = accuracy_score(y, y_pred_train)\n",
    "print(f\"Training Accuracy: {training_accuracy}\")\n",
    "\n",
    "# Function to recommend medication based on user input\n",
    "def recommend_medication(age, medication, condition):\n",
    "    medication_idx = label_encoders['Medication'].transform([medication])[0]\n",
    "    condition_idx = label_encoders['Condition'].transform([condition])[0]\n",
    "    \n",
    "    # Create a DataFrame with named features for prediction\n",
    "    user_input = pd.DataFrame([[age, medication_idx, condition_idx]], columns=['Age', 'Medication', 'Condition'])\n",
    "\n",
    "    # Make prediction based on user input DataFrame\n",
    "    prediction = clf.predict(user_input)\n",
    "    \n",
    "    if prediction == 1:\n",
    "        return \"Recommendation: Prescribe Medication\"\n",
    "    else:\n",
    "        return \"Recommendation: No Medication Needed\"\n",
    "\n",
    "# Take user input\n",
    "age_input = int(input(\"Enter patient's age: \"))\n",
    "medication_input = input(\"Enter medication (Medication_A, Medication_B, Medication_C, Medication_D): \")\n",
    "condition_input = input(\"Enter condition (Condition_X, Condition_Y, Condition_Z): \")\n",
    "\n",
    "recommendation = recommend_medication(age_input, medication_input, condition_input)\n",
    "print(recommendation)\n"
   ]
  },
  {
   "cell_type": "code",
   "execution_count": null,
   "id": "36367a90-4e54-484b-9a62-9bc48e613135",
   "metadata": {},
   "outputs": [],
   "source": []
  },
  {
   "cell_type": "code",
   "execution_count": null,
   "id": "b38e4fba-7b25-46ea-b136-f59ef8a98c42",
   "metadata": {},
   "outputs": [],
   "source": []
  }
 ],
 "metadata": {
  "kernelspec": {
   "display_name": "Python 3 (ipykernel)",
   "language": "python",
   "name": "python3"
  },
  "language_info": {
   "codemirror_mode": {
    "name": "ipython",
    "version": 3
   },
   "file_extension": ".py",
   "mimetype": "text/x-python",
   "name": "python",
   "nbconvert_exporter": "python",
   "pygments_lexer": "ipython3",
   "version": "3.11.5"
  }
 },
 "nbformat": 4,
 "nbformat_minor": 5
}
