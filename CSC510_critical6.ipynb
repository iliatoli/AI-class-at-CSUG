{
 "cells": [
  {
   "cell_type": "code",
   "execution_count": 12,
   "id": "2f01fad6-d40a-4ef4-8c05-6bea447025d5",
   "metadata": {},
   "outputs": [
    {
     "name": "stdout",
     "output_type": "stream",
     "text": [
      "Accuracy: 0.88\n",
      "Predicted class for test point [[0 1]]: [1]\n",
      "Probability estimates for each class: [[0.09476307 0.90523693]]\n"
     ]
    }
   ],
   "source": [
    "'''\n",
    "Naive Bayes classifiers are quick and easy to code in Python and are very efficient. \n",
    "\n",
    "Naive Bayes classifiers are based on Bayes' Theorem and assume independence among predictors (hence the \"Naive\" terminology). Not only are Naive Bayes classifiers handy and straightforward in a pinch, but they also outperform many other methods without the need for advanced feature engineering of the data.\n",
    "\n",
    "Check out the following for further information on Naive Bayes classificationLinks to an external site.\n",
    "\n",
    "Using scikit-learn, write a Naive Bayes classifier in Python. It can be single or multiple features. Submit the classifier in the form of an executable Python script alongside basic instructions for testing.\n",
    "\n",
    "Your Naive Bayes classification script should allow you to do the following:\n",
    "\n",
    "Calculate the posterior probability by converting the dataset into a frequency table.\n",
    "Create a \"Likelihood\" table by finding relevant probabilities.\n",
    "Calculate the posterior probability for each class.\n",
    "Correct Zero Probability errors using Laplacian correction.\n",
    "Your classifier may use a Gaussian, Multinomial, or Bernoulli model, depending on your chosen function. Your classifier must properly display its probability prediction based on its input data.\n",
    "\n",
    "Check out scikit-learn and its documentation at the following website:\n",
    "\n",
    "scikit-learnLinks to an external site.\n",
    "'''\n",
    "\n",
    "import numpy as np\n",
    "from sklearn.datasets import make_classification\n",
    "from sklearn.model_selection import train_test_split\n",
    "from sklearn.naive_bayes import GaussianNB\n",
    "\n",
    "# Generate random data (you can replace this with your dataset)\n",
    "X, y = make_classification(n_samples=1000, n_features=2, n_informative=2, n_redundant=0, random_state=42)\n",
    "\n",
    "# Split the data into training and testing sets\n",
    "X_train, X_test, y_train, y_test = train_test_split(X, y, test_size=0.2, random_state=42)\n",
    "\n",
    "# Create Gaussian Naive Bayes classifier\n",
    "clf = GaussianNB()\n",
    "\n",
    "# Train the classifier\n",
    "clf.fit(X_train, y_train)\n",
    "\n",
    "# Make predictions on test data\n",
    "y_pred = clf.predict(X_test)\n",
    "\n",
    "# Calculate accuracy\n",
    "accuracy = np.mean(y_pred == y_test)\n",
    "print(f\"Accuracy: {accuracy}\")\n",
    "\n",
    "# Example prediction using a test point\n",
    "test_point = np.array([[0, 1]])  # Replace this with your own test data\n",
    "predicted_class = clf.predict(test_point)\n",
    "print(f\"Predicted class for test point {test_point}: {predicted_class}\")\n",
    "\n",
    "# Display probability estimates for the test point\n",
    "probabilities = clf.predict_proba(test_point)\n",
    "print(f\"Probability estimates for each class: {probabilities}\")\n"
   ]
  },
  {
   "cell_type": "code",
   "execution_count": null,
   "id": "153d493f-cec9-420d-9501-16753c07d2f0",
   "metadata": {},
   "outputs": [],
   "source": []
  },
  {
   "cell_type": "code",
   "execution_count": null,
   "id": "f6c880d2-fbae-492b-b18d-cb336056b382",
   "metadata": {},
   "outputs": [],
   "source": []
  },
  {
   "cell_type": "code",
   "execution_count": null,
   "id": "18cbd966-93e7-46bb-a41f-5a82c9545573",
   "metadata": {},
   "outputs": [],
   "source": []
  },
  {
   "cell_type": "code",
   "execution_count": null,
   "id": "a3a6f7d3-d2bd-47da-87c0-d1d81b3e61ca",
   "metadata": {},
   "outputs": [],
   "source": []
  }
 ],
 "metadata": {
  "kernelspec": {
   "display_name": "Python 3 (ipykernel)",
   "language": "python",
   "name": "python3"
  },
  "language_info": {
   "codemirror_mode": {
    "name": "ipython",
    "version": 3
   },
   "file_extension": ".py",
   "mimetype": "text/x-python",
   "name": "python",
   "nbconvert_exporter": "python",
   "pygments_lexer": "ipython3",
   "version": "3.11.5"
  }
 },
 "nbformat": 4,
 "nbformat_minor": 5
}
