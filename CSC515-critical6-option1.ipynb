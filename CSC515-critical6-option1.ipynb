{
 "cells": [
  {
   "cell_type": "code",
   "execution_count": 2,
   "id": "80b084e2-e4b4-4889-afa4-77dc5c52ca68",
   "metadata": {},
   "outputs": [],
   "source": [
    "import cv2\n",
    "import numpy as np\n",
    "\n",
    "# Function for adaptive thresholding\n",
    "def adaptive_threshold(image):\n",
    "    # Convert the image to grayscale\n",
    "    gray = cv2.cvtColor(image, cv2.COLOR_BGR2GRAY)\n",
    "    \n",
    "    # Apply Gaussian blur to reduce noise\n",
    "    blurred = cv2.GaussianBlur(gray, (5, 5), 0)\n",
    "    \n",
    "    # Otsu's thresholding\n",
    "    _, otsu_thresh = cv2.threshold(blurred, 0, 255, cv2.THRESH_BINARY + cv2.THRESH_OTSU)\n",
    "    \n",
    "    # Adaptive mean thresholding\n",
    "    adaptive_mean = cv2.adaptiveThreshold(blurred, 255, cv2.ADAPTIVE_THRESH_MEAN_C, cv2.THRESH_BINARY, 11, 2)\n",
    "    \n",
    "    # Adaptive Gaussian thresholding\n",
    "    adaptive_gaussian = cv2.adaptiveThreshold(blurred, 255, cv2.ADAPTIVE_THRESH_GAUSSIAN_C, cv2.THRESH_BINARY, 11, 2)\n",
    "    \n",
    "    return otsu_thresh, adaptive_mean, adaptive_gaussian\n",
    "\n",
    "# Load images\n",
    "indoor_image = cv2.imread('indoor.jpeg')\n",
    "outdoor_image = cv2.imread('outdoor.jpeg')\n",
    "object_image = cv2.imread('closeup.jpg')\n",
    "\n",
    "# Perform adaptive thresholding on each image\n",
    "indoor_otsu, indoor_mean, indoor_gaussian = adaptive_threshold(indoor_image)\n",
    "outdoor_otsu, outdoor_mean, outdoor_gaussian = adaptive_threshold(outdoor_image)\n",
    "object_otsu, object_mean, object_gaussian = adaptive_threshold(object_image)\n",
    "\n",
    "# Display the results\n",
    "cv2.imshow('Indoor Otsu', indoor_otsu)\n",
    "cv2.imshow('Indoor Mean', indoor_mean)\n",
    "cv2.imshow('Indoor Gaussian', indoor_gaussian)\n",
    "\n",
    "cv2.imshow('Outdoor Otsu', outdoor_otsu)\n",
    "cv2.imshow('Outdoor Mean', outdoor_mean)\n",
    "cv2.imshow('Outdoor Gaussian', outdoor_gaussian)\n",
    "\n",
    "cv2.imshow('Object Otsu', object_otsu)\n",
    "cv2.imshow('Object Mean', object_mean)\n",
    "cv2.imshow('Object Gaussian', object_gaussian)\n",
    "\n",
    "cv2.waitKey(20000)\n",
    "cv2.destroyAllWindows()\n"
   ]
  },
  {
   "cell_type": "code",
   "execution_count": null,
   "id": "d19dc586-bfec-46ad-9146-0d0a92ca37f6",
   "metadata": {},
   "outputs": [],
   "source": []
  },
  {
   "cell_type": "code",
   "execution_count": null,
   "id": "9d2f768c-3c6c-4c81-bfae-6b30971246b7",
   "metadata": {},
   "outputs": [],
   "source": []
  }
 ],
 "metadata": {
  "kernelspec": {
   "display_name": "dlib_env",
   "language": "python",
   "name": "dlib_env"
  },
  "language_info": {
   "codemirror_mode": {
    "name": "ipython",
    "version": 3
   },
   "file_extension": ".py",
   "mimetype": "text/x-python",
   "name": "python",
   "nbconvert_exporter": "python",
   "pygments_lexer": "ipython3",
   "version": "3.8.18"
  }
 },
 "nbformat": 4,
 "nbformat_minor": 5
}
